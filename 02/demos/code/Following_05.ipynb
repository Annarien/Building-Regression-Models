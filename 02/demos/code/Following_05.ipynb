{
 "nbformat": 4,
 "nbformat_minor": 2,
 "metadata": {
  "language_info": {
   "name": "python",
   "codemirror_mode": {
    "name": "ipython",
    "version": 3
   },
   "version": "3.8.2-final"
  },
  "orig_nbformat": 2,
  "file_extension": ".py",
  "mimetype": "text/x-python",
  "name": "python",
  "npconvert_exporter": "python",
  "pygments_lexer": "ipython3",
  "version": 3,
  "kernelspec": {
   "name": "python38264bit1b9f95c7453e4abe802535ac5c0856e2",
   "display_name": "Python 3.8.2 64-bit"
  }
 },
 "cells": [
  {
   "cell_type": "markdown",
   "metadata": {},
   "source": [
    "This follows the work in 05-HyperparameterTuningWithGridSearch.ipynb"
   ]
  },
  {
   "cell_type": "code",
   "execution_count": 2,
   "metadata": {},
   "outputs": [],
   "source": [
    "# imports\n",
    "import pandas as pd\n",
    "import numpy as np\n",
    "import matplotlib.pyplot as plt\n",
    "\n",
    "from sklearn.model_selection import train_test_split\n",
    "from sklearn.metrics import r2_score\n",
    "from sklearn.preprocessing import StandardScaler\n",
    "\n",
    "from sklearn.linear_model import Lasso\n",
    "from sklearn.neighbors import KNeighborsRegressor\n",
    "from sklearn.tree import DecisionTreeRegressor\n",
    "from sklearn.svm import SVR\n",
    "\n",
    "from sklearn.model_selection import GridSearchCV\n",
    "\n",
    "import warnings\n",
    "warnings.filterwarnings(\"ignore\")"
   ]
  },
  {
   "cell_type": "code",
   "execution_count": 3,
   "metadata": {},
   "outputs": [
    {
     "output_type": "execute_result",
     "data": {
      "text/plain": "    mpg  cylinders  displacement  horsepower  weight  acceleration  age\n0  15.0          8         304.0         150    3892          12.5   48\n1  19.2          6         231.0         105    3535          19.2   42\n2  26.0          4          96.0          69    2189          18.0   48\n3  26.0          4          79.0          67    1963          15.5   46\n4  29.0          4          97.0          75    2171          16.0   45",
      "text/html": "<div>\n<style scoped>\n    .dataframe tbody tr th:only-of-type {\n        vertical-align: middle;\n    }\n\n    .dataframe tbody tr th {\n        vertical-align: top;\n    }\n\n    .dataframe thead th {\n        text-align: right;\n    }\n</style>\n<table border=\"1\" class=\"dataframe\">\n  <thead>\n    <tr style=\"text-align: right;\">\n      <th></th>\n      <th>mpg</th>\n      <th>cylinders</th>\n      <th>displacement</th>\n      <th>horsepower</th>\n      <th>weight</th>\n      <th>acceleration</th>\n      <th>age</th>\n    </tr>\n  </thead>\n  <tbody>\n    <tr>\n      <th>0</th>\n      <td>15.0</td>\n      <td>8</td>\n      <td>304.0</td>\n      <td>150</td>\n      <td>3892</td>\n      <td>12.5</td>\n      <td>48</td>\n    </tr>\n    <tr>\n      <th>1</th>\n      <td>19.2</td>\n      <td>6</td>\n      <td>231.0</td>\n      <td>105</td>\n      <td>3535</td>\n      <td>19.2</td>\n      <td>42</td>\n    </tr>\n    <tr>\n      <th>2</th>\n      <td>26.0</td>\n      <td>4</td>\n      <td>96.0</td>\n      <td>69</td>\n      <td>2189</td>\n      <td>18.0</td>\n      <td>48</td>\n    </tr>\n    <tr>\n      <th>3</th>\n      <td>26.0</td>\n      <td>4</td>\n      <td>79.0</td>\n      <td>67</td>\n      <td>1963</td>\n      <td>15.5</td>\n      <td>46</td>\n    </tr>\n    <tr>\n      <th>4</th>\n      <td>29.0</td>\n      <td>4</td>\n      <td>97.0</td>\n      <td>75</td>\n      <td>2171</td>\n      <td>16.0</td>\n      <td>45</td>\n    </tr>\n  </tbody>\n</table>\n</div>"
     },
     "metadata": {},
     "execution_count": 3
    }
   ],
   "source": [
    "automobile_df = pd.read_csv('datasets/auto-mpg-processed.csv')\n",
    "\n",
    "automobile_df.head()"
   ]
  },
  {
   "cell_type": "code",
   "execution_count": 4,
   "metadata": {},
   "outputs": [],
   "source": [
    "X = automobile_df.drop(['mpg', 'age'], axis=1)\n",
    "\n",
    "Y = automobile_df['mpg']\n",
    "\n",
    "x_train, x_test, y_train, y_test = train_test_split(X, Y, test_size=0.2)"
   ]
  },
  {
   "cell_type": "code",
   "execution_count": 6,
   "metadata": {},
   "outputs": [
    {
     "output_type": "execute_result",
     "data": {
      "text/plain": "{'alpha': 0.6}"
     },
     "metadata": {},
     "execution_count": 6
    }
   ],
   "source": [
    "parameters = {'alpha': [0.2, 0.4, 0.6, 0.7, 0.8, 0.9, 1.0]}\n",
    "\n",
    "grid_search = GridSearchCV(Lasso(), parameters, cv=3, return_train_score=True) #cv = 3, is 3-fold cross validation\n",
    "grid_search.fit(x_train, y_train)\n",
    "\n",
    "grid_search.best_params_"
   ]
  },
  {
   "cell_type": "code",
   "execution_count": 7,
   "metadata": {},
   "outputs": [
    {
     "output_type": "stream",
     "name": "stdout",
     "text": "Parameters:  {'alpha': 0.2}\nMean Test Score:  0.6962915264227195\nRank:  7\nParameters:  {'alpha': 0.4}\nMean Test Score:  0.697738072061564\nRank:  6\nParameters:  {'alpha': 0.6}\nMean Test Score:  0.6982680926216928\nRank:  1\nParameters:  {'alpha': 0.7}\nMean Test Score:  0.6982635621852792\nRank:  2\nParameters:  {'alpha': 0.8}\nMean Test Score:  0.6982567696074969\nRank:  3\nParameters:  {'alpha': 0.9}\nMean Test Score:  0.6982499713932607\nRank:  4\nParameters:  {'alpha': 1.0}\nMean Test Score:  0.6982434187118418\nRank:  5\n"
    }
   ],
   "source": [
    "for i in range(len(parameters['alpha'])):\n",
    "    print('Parameters: ', grid_search.cv_results_['params'][i])\n",
    "\n",
    "    print('Mean Test Score: ', grid_search.cv_results_['mean_test_score'][i])\n",
    "    \n",
    "    print('Rank: ', grid_search.cv_results_['rank_test_score'][i])"
   ]
  },
  {
   "cell_type": "code",
   "execution_count": 8,
   "metadata": {},
   "outputs": [],
   "source": [
    "lasso_model = Lasso(alpha=grid_search.best_params_['alpha']).fit(x_train, y_train)"
   ]
  },
  {
   "cell_type": "code",
   "execution_count": 9,
   "metadata": {},
   "outputs": [
    {
     "output_type": "stream",
     "name": "stdout",
     "text": "Training score:  0.7061431439826814\nTest score:  0.7085342250821367\n"
    }
   ],
   "source": [
    "y_pred = lasso_model.predict(x_test)\n",
    "\n",
    "print('Training score: ', lasso_model.score(x_train, y_train))\n",
    "print('Test score: ', r2_score(y_test, y_pred))"
   ]
  },
  {
   "cell_type": "markdown",
   "metadata": {},
   "source": [
    "### Kneighbours Regression"
   ]
  },
  {
   "cell_type": "code",
   "execution_count": 10,
   "metadata": {},
   "outputs": [
    {
     "output_type": "execute_result",
     "data": {
      "text/plain": "{'n_neighbors': 25}"
     },
     "metadata": {},
     "execution_count": 10
    }
   ],
   "source": [
    "parameters = {'n_neighbors': [10, 12, 14, 18, 20, 25, 30, 35, 50]}\n",
    "\n",
    "grid_search = GridSearchCV(KNeighborsRegressor(), parameters, cv=3, return_train_score=True)\n",
    "grid_search.fit(x_train, y_train)\n",
    "\n",
    "grid_search.best_params_"
   ]
  },
  {
   "cell_type": "code",
   "execution_count": 11,
   "metadata": {},
   "outputs": [
    {
     "output_type": "stream",
     "name": "stdout",
     "text": "Parameters:  {'n_neighbors': 10}\nMean Test Score:  0.6996778488824925\nRank:  6\nParameters:  {'n_neighbors': 12}\nMean Test Score:  0.6970312773239771\nRank:  8\nParameters:  {'n_neighbors': 14}\nMean Test Score:  0.6984292513456142\nRank:  7\nParameters:  {'n_neighbors': 18}\nMean Test Score:  0.6967472468129724\nRank:  9\nParameters:  {'n_neighbors': 20}\nMean Test Score:  0.7023981995231297\nRank:  5\nParameters:  {'n_neighbors': 25}\nMean Test Score:  0.7122019635357604\nRank:  1\nParameters:  {'n_neighbors': 30}\nMean Test Score:  0.7111933829976657\nRank:  2\nParameters:  {'n_neighbors': 35}\nMean Test Score:  0.7066001182402387\nRank:  3\nParameters:  {'n_neighbors': 50}\nMean Test Score:  0.7050644581375969\nRank:  4\n"
    }
   ],
   "source": [
    "for i in range(len(parameters['n_neighbors'])):\n",
    "    print('Parameters: ', grid_search.cv_results_['params'][i])\n",
    "    print('Mean Test Score: ', grid_search.cv_results_['mean_test_score'][i])\n",
    "    print('Rank: ', grid_search.cv_results_['rank_test_score'][i])"
   ]
  },
  {
   "cell_type": "code",
   "execution_count": 12,
   "metadata": {},
   "outputs": [],
   "source": [
    "kneighbors_model = KNeighborsRegressor(n_neighbors=grid_search.best_params_['n_neighbors']).fit(x_train, y_train)"
   ]
  },
  {
   "cell_type": "code",
   "execution_count": 13,
   "metadata": {},
   "outputs": [
    {
     "output_type": "stream",
     "name": "stdout",
     "text": "Training score:  0.7370424455785011\nTesting score:  0.6872738971145862\n"
    }
   ],
   "source": [
    "y_pred = kneighbors_model.predict(x_test)\n",
    "\n",
    "print('Training score: ', kneighbors_model.score(x_train, y_train))\n",
    "print('Testing score: ', r2_score(y_test, y_pred))"
   ]
  },
  {
   "cell_type": "code",
   "execution_count": 14,
   "metadata": {},
   "outputs": [
    {
     "output_type": "execute_result",
     "data": {
      "text/plain": "{'max_depth': 3}"
     },
     "metadata": {},
     "execution_count": 14
    }
   ],
   "source": [
    "parameters = {'max_depth':[1, 2, 3, 4, 5, 7, 8]}\n",
    "\n",
    "grid_search = GridSearchCV(DecisionTreeRegressor(), parameters, cv=3, return_train_score=True)\n",
    "grid_search.fit(x_train, y_train)\n",
    "\n",
    "grid_search.best_params_"
   ]
  },
  {
   "cell_type": "code",
   "execution_count": 15,
   "metadata": {},
   "outputs": [],
   "source": [
    "decision_tree_model = DecisionTreeRegressor(max_depth=grid_search.best_params_['max_depth']).fit(x_train, y_train)"
   ]
  },
  {
   "cell_type": "code",
   "execution_count": 16,
   "metadata": {},
   "outputs": [
    {
     "output_type": "stream",
     "name": "stdout",
     "text": "Training score:  0.7370424455785011\nTesting score:  0.6872738971145862\n"
    }
   ],
   "source": [
    "y_pred = kneighbors_model.predict(x_test)\n",
    "\n",
    "print('Training score: ', kneighbors_model.score(x_train, y_train))\n",
    "print('Testing score: ', r2_score(y_test, y_pred))"
   ]
  },
  {
   "cell_type": "code",
   "execution_count": 17,
   "metadata": {},
   "outputs": [
    {
     "output_type": "execute_result",
     "data": {
      "text/plain": "{'C': 0.3, 'epsilon': 0.05}"
     },
     "metadata": {},
     "execution_count": 17
    }
   ],
   "source": [
    "parameters = {'epsilon': [0.05, 0.1, 0.2, 0.3],\n",
    "              'C': [0.2, 0.3]}\n",
    "\n",
    "grid_search = GridSearchCV(SVR(kernel='linear'), parameters, cv=3, return_train_score=True)\n",
    "grid_search.fit(x_train, y_train)\n",
    "\n",
    "grid_search.best_params_"
   ]
  },
  {
   "cell_type": "code",
   "execution_count": 18,
   "metadata": {},
   "outputs": [],
   "source": [
    "svr_model = SVR(kernel='linear',\n",
    "                epsilon=grid_search.best_params_['epsilon'], \n",
    "                C=grid_search.best_params_['C']).fit(x_train, y_train)"
   ]
  },
  {
   "cell_type": "code",
   "execution_count": 19,
   "metadata": {},
   "outputs": [
    {
     "output_type": "stream",
     "name": "stdout",
     "text": "Training score:  0.693719423743661\nTesting score:  0.6880070421715073\n"
    }
   ],
   "source": [
    "y_pred = svr_model.predict(x_test)\n",
    "\n",
    "print('Training score: ', svr_model.score(x_train, y_train))\n",
    "print('Testing score: ', r2_score(y_test, y_pred))"
   ]
  }
 ]
}